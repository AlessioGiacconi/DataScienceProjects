{
  "nbformat": 4,
  "nbformat_minor": 0,
  "metadata": {
    "colab": {
      "provenance": [],
      "gpuType": "T4"
    },
    "kernelspec": {
      "name": "python3",
      "display_name": "Python 3"
    },
    "language_info": {
      "name": "python"
    },
    "accelerator": "GPU"
  },
  "cells": [
    {
      "cell_type": "code",
      "source": [
        "import pandas as pd\n",
        "from pathlib import Path\n",
        "import torch\n",
        "from torch.utils.data import DataLoader, Dataset, random_split\n",
        "from transformers import BertTokenizer, BertForSequenceClassification, AdamW\n",
        "from transformers import get_scheduler\n",
        "from tqdm import tqdm\n",
        "import time\n",
        "import matplotlib.pyplot as plt\n",
        "import numpy as np\n",
        "from sklearn.metrics import confusion_matrix, ConfusionMatrixDisplay\n",
        "from tabulate import tabulate"
      ],
      "metadata": {
        "id": "318hAY2Bjb_I"
      },
      "execution_count": 46,
      "outputs": []
    },
    {
      "cell_type": "code",
      "execution_count": 13,
      "metadata": {
        "colab": {
          "base_uri": "https://localhost:8080/"
        },
        "id": "EO59rr9vcHAV",
        "outputId": "7e715c83-a0cc-48f4-b47d-4f3c8d94ee2a"
      },
      "outputs": [
        {
          "output_type": "stream",
          "name": "stdout",
          "text": [
            "Drive already mounted at /content/drive; to attempt to forcibly remount, call drive.mount(\"/content/drive\", force_remount=True).\n"
          ]
        }
      ],
      "source": [
        "from google.colab import drive\n",
        "drive.mount('/content/drive')"
      ]
    },
    {
      "cell_type": "code",
      "source": [
        "file_path = '/content/drive/MyDrive/cleaned_tweets.csv'\n",
        "\n",
        "df_csv = pd.read_csv(file_path)\n",
        "df_csv.info()\n",
        "\n",
        "label_mapping = {\n",
        "    \"Not Suicide post\": 0,\n",
        "    \"Potential Suicide post \": 1\n",
        "}\n",
        "\n",
        "df_csv_cleaned = df_csv.dropna(subset=['Cleaned_Tweet'])\n",
        "\n",
        "df_csv_cleaned['Suicide'] = df_csv_cleaned['Suicide'].map(label_mapping)\n",
        "\n",
        "sentence_lengths = df_csv_cleaned['Cleaned_Tweet'].apply(lambda x: len(x.split()))\n",
        "average_length = sentence_lengths.mean()\n",
        "max_length = sentence_lengths.max()\n",
        "\n",
        "print(f\"Average sentence length: {average_length}\")\n",
        "print(f\"Maximum sentence length: {max_length}\")\n",
        "df_csv_cleaned.info()"
      ],
      "metadata": {
        "colab": {
          "base_uri": "https://localhost:8080/"
        },
        "id": "euqMiPaZjSp5",
        "outputId": "cbcac937-0ae0-42d6-c60b-e081816bc17e"
      },
      "execution_count": 27,
      "outputs": [
        {
          "output_type": "stream",
          "name": "stdout",
          "text": [
            "<class 'pandas.core.frame.DataFrame'>\n",
            "RangeIndex: 1787 entries, 0 to 1786\n",
            "Data columns (total 2 columns):\n",
            " #   Column         Non-Null Count  Dtype \n",
            "---  ------         --------------  ----- \n",
            " 0   Cleaned_Tweet  1784 non-null   object\n",
            " 1   Suicide        1787 non-null   object\n",
            "dtypes: object(2)\n",
            "memory usage: 28.1+ KB\n",
            "Average sentence length: 11.695627802690582\n",
            "Maximum sentence length: 142\n",
            "<class 'pandas.core.frame.DataFrame'>\n",
            "Index: 1784 entries, 0 to 1786\n",
            "Data columns (total 2 columns):\n",
            " #   Column         Non-Null Count  Dtype \n",
            "---  ------         --------------  ----- \n",
            " 0   Cleaned_Tweet  1784 non-null   object\n",
            " 1   Suicide        1784 non-null   int64 \n",
            "dtypes: int64(1), object(1)\n",
            "memory usage: 41.8+ KB\n"
          ]
        },
        {
          "output_type": "stream",
          "name": "stderr",
          "text": [
            "<ipython-input-27-cd058b4bf93f>:13: SettingWithCopyWarning: \n",
            "A value is trying to be set on a copy of a slice from a DataFrame.\n",
            "Try using .loc[row_indexer,col_indexer] = value instead\n",
            "\n",
            "See the caveats in the documentation: https://pandas.pydata.org/pandas-docs/stable/user_guide/indexing.html#returning-a-view-versus-a-copy\n",
            "  df_csv_cleaned['Suicide'] = df_csv_cleaned['Suicide'].map(label_mapping)\n"
          ]
        }
      ]
    },
    {
      "cell_type": "code",
      "source": [
        "# Controllare la disponibilità della GPU\n",
        "device = torch.device(\"cuda\") if torch.cuda.is_available() else torch.device(\"cpu\")\n",
        "print(f\"Using device: {device}\")"
      ],
      "metadata": {
        "colab": {
          "base_uri": "https://localhost:8080/"
        },
        "id": "a6f7zMhDj2wL",
        "outputId": "2e4715dd-d2cb-4141-e404-d8ca5cea4e2f"
      },
      "execution_count": 28,
      "outputs": [
        {
          "output_type": "stream",
          "name": "stdout",
          "text": [
            "Using device: cuda\n"
          ]
        }
      ]
    },
    {
      "cell_type": "code",
      "source": [
        "# Inizializzare il tokenizer BERT\n",
        "tokenizer = BertTokenizer.from_pretrained(\"bert-base-uncased\")\n",
        "\n",
        "MAX_LEN = 40\n",
        "# Dataset personalizzato\n",
        "class SuicideTweetDataset(Dataset):\n",
        "    def __init__(self, texts, labels):\n",
        "        self.texts = texts\n",
        "        self.labels = labels\n",
        "\n",
        "    def __len__(self):\n",
        "        return len(self.texts)\n",
        "\n",
        "    def __getitem__(self, idx):\n",
        "        # Tokenizzare il testo con encode_plus\n",
        "        encodings = tokenizer.encode_plus(\n",
        "            self.texts[idx],\n",
        "            add_special_tokens=True,  # Aggiunge [CLS] e [SEP]\n",
        "            padding='max_length',\n",
        "            truncation=True,\n",
        "            max_length=MAX_LEN,\n",
        "            return_tensors=\"pt\"\n",
        "        )\n",
        "\n",
        "        # Preparare il dizionario degli input per il DataLoader\n",
        "        item = {\n",
        "            'input_ids': encodings['input_ids'].squeeze(0),\n",
        "            'attention_mask': encodings['attention_mask'].squeeze(0),\n",
        "            'labels': torch.tensor(self.labels[idx], dtype=torch.long)\n",
        "        }\n",
        "        return item\n",
        "\n",
        "# Creare il dataset\n",
        "dataset = SuicideTweetDataset(\n",
        "    texts=df_csv_cleaned[\"Cleaned_Tweet\"].tolist(),\n",
        "    labels=df_csv_cleaned[\"Suicide\"].tolist()\n",
        ")"
      ],
      "metadata": {
        "id": "8oXmEK6lkvrR"
      },
      "execution_count": 29,
      "outputs": []
    },
    {
      "cell_type": "code",
      "source": [
        "# Funzione per mostrare i token e i loro ID con delimitatori\n",
        "def display_token_example_with_delimiters(dataset, idx=0):\n",
        "    # Estrai i dati dal dataset personalizzato\n",
        "    sample = dataset[idx]\n",
        "\n",
        "    # Ottieni gli ID dei token\n",
        "    token_ids = sample['input_ids'].tolist()\n",
        "\n",
        "    # Convertire gli ID dei token in token leggibili\n",
        "    tokens = tokenizer.convert_ids_to_tokens(token_ids)\n",
        "\n",
        "    # Creare la tabella dei token\n",
        "    token_table = pd.DataFrame({\n",
        "        \"Tokens\": tokens,\n",
        "        \"Token IDs\": token_ids\n",
        "    })\n",
        "\n",
        "    # Formattare la tabella con delimitatori\n",
        "    print(tabulate(token_table, headers='keys', tablefmt='grid'))\n",
        "\n",
        "# Mostrare i token e gli ID per la prima frase del dataset\n",
        "display_token_example_with_delimiters(dataset, idx=500)"
      ],
      "metadata": {
        "colab": {
          "base_uri": "https://localhost:8080/"
        },
        "id": "OoGTbeM1zYYG",
        "outputId": "7b50f443-a539-4fbb-b587-0a61c8c7a53d"
      },
      "execution_count": 50,
      "outputs": [
        {
          "output_type": "stream",
          "name": "stdout",
          "text": [
            "+----+----------+-------------+\n",
            "|    | Tokens   |   Token IDs |\n",
            "+====+==========+=============+\n",
            "|  0 | [CLS]    |         101 |\n",
            "+----+----------+-------------+\n",
            "|  1 | nearly   |        3053 |\n",
            "+----+----------+-------------+\n",
            "|  2 | holidays |       11938 |\n",
            "+----+----------+-------------+\n",
            "|  3 | hand     |        2192 |\n",
            "+----+----------+-------------+\n",
            "|  4 | camping  |       13215 |\n",
            "+----+----------+-------------+\n",
            "|  5 | [SEP]    |         102 |\n",
            "+----+----------+-------------+\n",
            "|  6 | [PAD]    |           0 |\n",
            "+----+----------+-------------+\n",
            "|  7 | [PAD]    |           0 |\n",
            "+----+----------+-------------+\n",
            "|  8 | [PAD]    |           0 |\n",
            "+----+----------+-------------+\n",
            "|  9 | [PAD]    |           0 |\n",
            "+----+----------+-------------+\n",
            "| 10 | [PAD]    |           0 |\n",
            "+----+----------+-------------+\n",
            "| 11 | [PAD]    |           0 |\n",
            "+----+----------+-------------+\n",
            "| 12 | [PAD]    |           0 |\n",
            "+----+----------+-------------+\n",
            "| 13 | [PAD]    |           0 |\n",
            "+----+----------+-------------+\n",
            "| 14 | [PAD]    |           0 |\n",
            "+----+----------+-------------+\n",
            "| 15 | [PAD]    |           0 |\n",
            "+----+----------+-------------+\n",
            "| 16 | [PAD]    |           0 |\n",
            "+----+----------+-------------+\n",
            "| 17 | [PAD]    |           0 |\n",
            "+----+----------+-------------+\n",
            "| 18 | [PAD]    |           0 |\n",
            "+----+----------+-------------+\n",
            "| 19 | [PAD]    |           0 |\n",
            "+----+----------+-------------+\n",
            "| 20 | [PAD]    |           0 |\n",
            "+----+----------+-------------+\n",
            "| 21 | [PAD]    |           0 |\n",
            "+----+----------+-------------+\n",
            "| 22 | [PAD]    |           0 |\n",
            "+----+----------+-------------+\n",
            "| 23 | [PAD]    |           0 |\n",
            "+----+----------+-------------+\n",
            "| 24 | [PAD]    |           0 |\n",
            "+----+----------+-------------+\n",
            "| 25 | [PAD]    |           0 |\n",
            "+----+----------+-------------+\n",
            "| 26 | [PAD]    |           0 |\n",
            "+----+----------+-------------+\n",
            "| 27 | [PAD]    |           0 |\n",
            "+----+----------+-------------+\n",
            "| 28 | [PAD]    |           0 |\n",
            "+----+----------+-------------+\n",
            "| 29 | [PAD]    |           0 |\n",
            "+----+----------+-------------+\n",
            "| 30 | [PAD]    |           0 |\n",
            "+----+----------+-------------+\n",
            "| 31 | [PAD]    |           0 |\n",
            "+----+----------+-------------+\n",
            "| 32 | [PAD]    |           0 |\n",
            "+----+----------+-------------+\n",
            "| 33 | [PAD]    |           0 |\n",
            "+----+----------+-------------+\n",
            "| 34 | [PAD]    |           0 |\n",
            "+----+----------+-------------+\n",
            "| 35 | [PAD]    |           0 |\n",
            "+----+----------+-------------+\n",
            "| 36 | [PAD]    |           0 |\n",
            "+----+----------+-------------+\n",
            "| 37 | [PAD]    |           0 |\n",
            "+----+----------+-------------+\n",
            "| 38 | [PAD]    |           0 |\n",
            "+----+----------+-------------+\n",
            "| 39 | [PAD]    |           0 |\n",
            "+----+----------+-------------+\n"
          ]
        }
      ]
    },
    {
      "cell_type": "code",
      "source": [
        "# Dividere il dataset in training e validation set\n",
        "train_size = int(0.8 * len(dataset))\n",
        "val_size = len(dataset) - train_size\n",
        "train_dataset, val_dataset = random_split(dataset, [train_size, val_size])\n",
        "\n",
        "# Creare i DataLoader\n",
        "train_loader = DataLoader(train_dataset, batch_size=16, shuffle=True)\n",
        "val_loader = DataLoader(val_dataset, batch_size=16)"
      ],
      "metadata": {
        "id": "CUWn-VOil1fU"
      },
      "execution_count": 30,
      "outputs": []
    },
    {
      "cell_type": "code",
      "source": [
        "# Inizializzare il modello pre-addestrato BERT con un livello di classificazione\n",
        "model = BertForSequenceClassification.from_pretrained(\"bert-base-uncased\", num_labels=2)\n",
        "model.to(device)"
      ],
      "metadata": {
        "colab": {
          "base_uri": "https://localhost:8080/"
        },
        "id": "HJPu4KPgmD6T",
        "outputId": "296114d3-e33d-4381-b812-a2ee163cfdbd"
      },
      "execution_count": 31,
      "outputs": [
        {
          "output_type": "stream",
          "name": "stderr",
          "text": [
            "Some weights of BertForSequenceClassification were not initialized from the model checkpoint at bert-base-uncased and are newly initialized: ['classifier.bias', 'classifier.weight']\n",
            "You should probably TRAIN this model on a down-stream task to be able to use it for predictions and inference.\n"
          ]
        },
        {
          "output_type": "execute_result",
          "data": {
            "text/plain": [
              "BertForSequenceClassification(\n",
              "  (bert): BertModel(\n",
              "    (embeddings): BertEmbeddings(\n",
              "      (word_embeddings): Embedding(30522, 768, padding_idx=0)\n",
              "      (position_embeddings): Embedding(512, 768)\n",
              "      (token_type_embeddings): Embedding(2, 768)\n",
              "      (LayerNorm): LayerNorm((768,), eps=1e-12, elementwise_affine=True)\n",
              "      (dropout): Dropout(p=0.1, inplace=False)\n",
              "    )\n",
              "    (encoder): BertEncoder(\n",
              "      (layer): ModuleList(\n",
              "        (0-11): 12 x BertLayer(\n",
              "          (attention): BertAttention(\n",
              "            (self): BertSdpaSelfAttention(\n",
              "              (query): Linear(in_features=768, out_features=768, bias=True)\n",
              "              (key): Linear(in_features=768, out_features=768, bias=True)\n",
              "              (value): Linear(in_features=768, out_features=768, bias=True)\n",
              "              (dropout): Dropout(p=0.1, inplace=False)\n",
              "            )\n",
              "            (output): BertSelfOutput(\n",
              "              (dense): Linear(in_features=768, out_features=768, bias=True)\n",
              "              (LayerNorm): LayerNorm((768,), eps=1e-12, elementwise_affine=True)\n",
              "              (dropout): Dropout(p=0.1, inplace=False)\n",
              "            )\n",
              "          )\n",
              "          (intermediate): BertIntermediate(\n",
              "            (dense): Linear(in_features=768, out_features=3072, bias=True)\n",
              "            (intermediate_act_fn): GELUActivation()\n",
              "          )\n",
              "          (output): BertOutput(\n",
              "            (dense): Linear(in_features=3072, out_features=768, bias=True)\n",
              "            (LayerNorm): LayerNorm((768,), eps=1e-12, elementwise_affine=True)\n",
              "            (dropout): Dropout(p=0.1, inplace=False)\n",
              "          )\n",
              "        )\n",
              "      )\n",
              "    )\n",
              "    (pooler): BertPooler(\n",
              "      (dense): Linear(in_features=768, out_features=768, bias=True)\n",
              "      (activation): Tanh()\n",
              "    )\n",
              "  )\n",
              "  (dropout): Dropout(p=0.1, inplace=False)\n",
              "  (classifier): Linear(in_features=768, out_features=2, bias=True)\n",
              ")"
            ]
          },
          "metadata": {},
          "execution_count": 31
        }
      ]
    },
    {
      "cell_type": "code",
      "source": [
        "# Ottimizzatore AdamW\n",
        "optimizer = AdamW(model.parameters(), lr=5e-5)\n",
        "\n",
        "# Scheduler per il tasso di apprendimento\n",
        "num_training_steps = len(train_loader) * 3  # 3 epoche\n",
        "lr_scheduler = get_scheduler(\n",
        "    name=\"linear\", optimizer=optimizer, num_warmup_steps=0, num_training_steps=num_training_steps\n",
        ")"
      ],
      "metadata": {
        "colab": {
          "base_uri": "https://localhost:8080/"
        },
        "id": "N-Z9XQQCmP9w",
        "outputId": "a2abd7a3-6f62-4645-c14c-74f87aca2f74"
      },
      "execution_count": 32,
      "outputs": [
        {
          "output_type": "stream",
          "name": "stderr",
          "text": [
            "/usr/local/lib/python3.11/dist-packages/transformers/optimization.py:591: FutureWarning: This implementation of AdamW is deprecated and will be removed in a future version. Use the PyTorch implementation torch.optim.AdamW instead, or set `no_deprecation_warning=True` to disable this warning\n",
            "  warnings.warn(\n"
          ]
        }
      ]
    },
    {
      "cell_type": "code",
      "source": [
        "def plot_training_validation_loss(results_df):\n",
        "    # Estrarre i dati dal DataFrame\n",
        "    epochs = range(1, len(results_df) + 1)\n",
        "    training_loss = results_df[\"Training Loss\"]\n",
        "    validation_loss = results_df[\"Valid. Loss\"]\n",
        "\n",
        "    # Creare il grafico\n",
        "    plt.figure(figsize=(8, 5))\n",
        "    plt.plot(epochs, training_loss, marker='o', label=\"Training\")\n",
        "    plt.plot(epochs, validation_loss, marker='o', label=\"Validation\")\n",
        "    plt.xlabel(\"Epoch\")\n",
        "    plt.ylabel(\"Loss\")\n",
        "    plt.title(\"Training & Validation Loss\")\n",
        "    plt.legend()\n",
        "    plt.grid(True)\n",
        "    plt.show()"
      ],
      "metadata": {
        "id": "W8G1vjcQqIB-"
      },
      "execution_count": 33,
      "outputs": []
    },
    {
      "cell_type": "code",
      "source": [
        "def plot_confusion_matrices(model, val_loader):\n",
        "    y_true = []\n",
        "    y_pred = []\n",
        "\n",
        "    model.eval()\n",
        "    with torch.no_grad():\n",
        "        for batch in val_loader:\n",
        "            inputs = {key: val.to(device) for key, val in batch.items() if key != \"labels\"}\n",
        "            labels = batch[\"labels\"].cpu().numpy()\n",
        "            outputs = model(**inputs)\n",
        "            predictions = torch.argmax(outputs.logits, axis=-1).cpu().numpy()\n",
        "\n",
        "            y_true.extend(labels)\n",
        "            y_pred.extend(predictions)\n",
        "\n",
        "    # Matrice di confusione effettiva\n",
        "    cm = confusion_matrix(y_true, y_pred)\n",
        "    cm_percentage = cm.astype('float') / cm.sum(axis=1)[:, np.newaxis] * 100\n",
        "\n",
        "    # Grafico della matrice effettiva\n",
        "    plt.figure(figsize=(8, 5))\n",
        "    disp = ConfusionMatrixDisplay(confusion_matrix=cm, display_labels=['Not Suicide', 'Potential Suicide'])\n",
        "    disp.plot(cmap='Blues', values_format='d')\n",
        "    plt.title(\"Confusion Matrix (Effettiva)\")\n",
        "    plt.show()\n",
        "\n",
        "    # Grafico della matrice in percentuale\n",
        "    plt.figure(figsize=(8, 5))\n",
        "    disp_percent = ConfusionMatrixDisplay(confusion_matrix=cm_percentage, display_labels=['Not Suicide', 'Potential Suicide'])\n",
        "    disp_percent.plot(cmap='Blues', values_format=\".2f\")\n",
        "    plt.title(\"Confusion Matrix (Percentuale)\")\n",
        "    plt.show()"
      ],
      "metadata": {
        "id": "UAwT6RBVxW_E"
      },
      "execution_count": 39,
      "outputs": []
    },
    {
      "cell_type": "code",
      "source": [
        "def train_model(model, train_loader, val_loader, epochs=2):\n",
        "    loss_fn = torch.nn.CrossEntropyLoss()\n",
        "    results = []  # Per registrare i risultati di ogni epoca\n",
        "\n",
        "    for epoch in range(epochs):\n",
        "        model.train()\n",
        "        loop = tqdm(train_loader, leave=True)\n",
        "        total_loss = 0\n",
        "        start_time = time.time()\n",
        "\n",
        "        for batch in loop:\n",
        "            # Spostare i dati sulla GPU (se disponibile)\n",
        "            inputs = {key: val.to(device) for key, val in batch.items() if key != \"labels\"}\n",
        "            labels = batch[\"labels\"].to(device)\n",
        "\n",
        "            # Forward pass\n",
        "            outputs = model(**inputs)\n",
        "            loss = loss_fn(outputs.logits, labels)\n",
        "\n",
        "            # Backpropagazione\n",
        "            optimizer.zero_grad()\n",
        "            loss.backward()\n",
        "            optimizer.step()\n",
        "            lr_scheduler.step()\n",
        "\n",
        "            total_loss += loss.item()\n",
        "\n",
        "            # Aggiornare il loop di progressione\n",
        "            loop.set_description(f'Epoch {epoch + 1}')\n",
        "            loop.set_postfix(loss=loss.item())\n",
        "\n",
        "        # Calcolare la media del training loss\n",
        "        avg_training_loss = total_loss / len(train_loader)\n",
        "\n",
        "        # Valutazione sulle validation data\n",
        "        val_loss, val_accuracy = evaluate_model(model, val_loader)\n",
        "\n",
        "        # Calcolare il tempo di addestramento\n",
        "        epoch_time = time.time() - start_time\n",
        "\n",
        "        # Registrare i risultati\n",
        "        results.append({\n",
        "            \"Epoche\": f\"Epoca {epoch + 1}\",\n",
        "            \"Training Loss\": round(avg_training_loss, 2),\n",
        "            \"Valid. Loss\": round(val_loss, 2),\n",
        "            \"Valid. Accur.\": round(val_accuracy, 2),\n",
        "            \"Training Time\": time.strftime(\"%H:%M:%S\", time.gmtime(epoch_time))\n",
        "        })\n",
        "\n",
        "    # Creare e visualizzare la tabella\n",
        "    results_df = pd.DataFrame(results)\n",
        "    print(results_df)\n",
        "\n",
        "    # Generare il grafico\n",
        "    plot_training_validation_loss(results_df)\n",
        "\n",
        "    return results_df\n",
        "\n",
        "def evaluate_model(model, val_loader):\n",
        "    model.eval()\n",
        "    total_loss = 0\n",
        "    correct = 0\n",
        "    total = 0\n",
        "    loss_fn = torch.nn.CrossEntropyLoss()\n",
        "\n",
        "    with torch.no_grad():\n",
        "        for batch in val_loader:\n",
        "            inputs = {key: val.to(device) for key, val in batch.items() if key != \"labels\"}\n",
        "            labels = batch[\"labels\"].to(device)\n",
        "\n",
        "            outputs = model(**inputs)\n",
        "            loss = loss_fn(outputs.logits, labels)\n",
        "            total_loss += loss.item()\n",
        "\n",
        "            predictions = torch.argmax(outputs.logits, dim=-1)\n",
        "            correct += (predictions == labels).sum().item()\n",
        "            total += labels.size(0)\n",
        "\n",
        "    # Calcolare la valid loss e la valid accuracy\n",
        "    avg_val_loss = total_loss / len(val_loader)\n",
        "    accuracy = correct / total\n",
        "    return avg_val_loss, accuracy"
      ],
      "metadata": {
        "id": "_avTDYDymmnX"
      },
      "execution_count": 34,
      "outputs": []
    },
    {
      "cell_type": "code",
      "source": [
        "train_model(model, train_loader, val_loader, epochs=3)"
      ],
      "metadata": {
        "colab": {
          "base_uri": "https://localhost:8080/",
          "height": 735
        },
        "id": "SfjvzY6KnoHq",
        "outputId": "0ba06936-4d76-4bf2-f5bd-fe1b9990a520"
      },
      "execution_count": 35,
      "outputs": [
        {
          "output_type": "stream",
          "name": "stderr",
          "text": [
            "Epoch 1: 100%|██████████| 90/90 [00:12<00:00,  7.15it/s, loss=0.0492]\n",
            "Epoch 2: 100%|██████████| 90/90 [00:12<00:00,  7.06it/s, loss=0.019]\n",
            "Epoch 3: 100%|██████████| 90/90 [00:12<00:00,  7.09it/s, loss=0.00657]\n"
          ]
        },
        {
          "output_type": "stream",
          "name": "stdout",
          "text": [
            "    Epoche  Training Loss  Valid. Loss  Valid. Accur. Training Time\n",
            "0  Epoca 1           0.31         0.37           0.89      00:00:13\n",
            "1  Epoca 2           0.13         0.34           0.90      00:00:13\n",
            "2  Epoca 3           0.05         0.27           0.92      00:00:13\n"
          ]
        },
        {
          "output_type": "display_data",
          "data": {
            "text/plain": [
              "<Figure size 800x500 with 1 Axes>"
            ],
            "image/png": "[encoded data removed]"
          },
          "metadata": {}
        },
        {
          "output_type": "execute_result",
          "data": {
            "text/plain": [
              "    Epoche  Training Loss  Valid. Loss  Valid. Accur. Training Time\n",
              "0  Epoca 1           0.31         0.37           0.89      00:00:13\n",
              "1  Epoca 2           0.13         0.34           0.90      00:00:13\n",
              "2  Epoca 3           0.05         0.27           0.92      00:00:13"
            ],
            "text/html": [
              "\n",
              "  <div id=\"df-c18b46fe-6d0d-4d86-883b-012dca388f82\" class=\"colab-df-container\">\n",
              "    <div>\n",
              "<style scoped>\n",
              "    .dataframe tbody tr th:only-of-type {\n",
              "        vertical-align: middle;\n",
              "    }\n",
              "\n",
              "    .dataframe tbody tr th {\n",
              "        vertical-align: top;\n",
              "    }\n",
              "\n",
              "    .dataframe thead th {\n",
              "        text-align: right;\n",
              "    }\n",
              "</style>\n",
              "<table border=\"1\" class=\"dataframe\">\n",
              "  <thead>\n",
              "    <tr style=\"text-align: right;\">\n",
              "      <th></th>\n",
              "      <th>Epoche</th>\n",
              "      <th>Training Loss</th>\n",
              "      <th>Valid. Loss</th>\n",
              "      <th>Valid. Accur.</th>\n",
              "      <th>Training Time</th>\n",
              "    </tr>\n",
              "  </thead>\n",
              "  <tbody>\n",
              "    <tr>\n",
              "      <th>0</th>\n",
              "      <td>Epoca 1</td>\n",
              "      <td>0.31</td>\n",
              "      <td>0.37</td>\n",
              "      <td>0.89</td>\n",
              "      <td>00:00:13</td>\n",
              "    </tr>\n",
              "    <tr>\n",
              "      <th>1</th>\n",
              "      <td>Epoca 2</td>\n",
              "      <td>0.13</td>\n",
              "      <td>0.34</td>\n",
              "      <td>0.90</td>\n",
              "      <td>00:00:13</td>\n",
              "    </tr>\n",
              "    <tr>\n",
              "      <th>2</th>\n",
              "      <td>Epoca 3</td>\n",
              "      <td>0.05</td>\n",
              "      <td>0.27</td>\n",
              "      <td>0.92</td>\n",
              "      <td>00:00:13</td>\n",
              "    </tr>\n",
              "  </tbody>\n",
              "</table>\n",
              "</div>\n",
              "    <div class=\"colab-df-buttons\">\n",
              "\n",
              "  <div class=\"colab-df-container\">\n",
              "    <button class=\"colab-df-convert\" onclick=\"convertToInteractive('df-c18b46fe-6d0d-4d86-883b-012dca388f82')\"\n",
              "            title=\"Convert this dataframe to an interactive table.\"\n",
              "            style=\"display:none;\">\n",
              "\n",
              "  <svg xmlns=\"http://www.w3.org/2000/svg\" height=\"24px\" viewBox=\"0 -960 960 960\">\n",
              "    <path d=\"M120-120v-720h720v720H120Zm60-500h600v-160H180v160Zm220 220h160v-160H400v160Zm0 220h160v-160H400v160ZM180-400h160v-160H180v160Zm440 0h160v-160H620v160ZM180-180h160v-160H180v160Zm440 0h160v-160H620v160Z\"/>\n",
              "  </svg>\n",
              "    </button>\n",
              "\n",
              "  <style>\n",
              "    .colab-df-container {\n",
              "      display:flex;\n",
              "      gap: 12px;\n",
              "    }\n",
              "\n",
              "    .colab-df-convert {\n",
              "      background-color: #E8F0FE;\n",
              "      border: none;\n",
              "      border-radius: 50%;\n",
              "      cursor: pointer;\n",
              "      display: none;\n",
              "      fill: #1967D2;\n",
              "      height: 32px;\n",
              "      padding: 0 0 0 0;\n",
              "      width: 32px;\n",
              "    }\n",
              "\n",
              "    .colab-df-convert:hover {\n",
              "      background-color: #E2EBFA;\n",
              "      box-shadow: 0px 1px 2px rgba(60, 64, 67, 0.3), 0px 1px 3px 1px rgba(60, 64, 67, 0.15);\n",
              "      fill: #174EA6;\n",
              "    }\n",
              "\n",
              "    .colab-df-buttons div {\n",
              "      margin-bottom: 4px;\n",
              "    }\n",
              "\n",
              "    [theme=dark] .colab-df-convert {\n",
              "      background-color: #3B4455;\n",
              "      fill: #D2E3FC;\n",
              "    }\n",
              "\n",
              "    [theme=dark] .colab-df-convert:hover {\n",
              "      background-color: #434B5C;\n",
              "      box-shadow: 0px 1px 3px 1px rgba(0, 0, 0, 0.15);\n",
              "      filter: drop-shadow(0px 1px 2px rgba(0, 0, 0, 0.3));\n",
              "      fill: #FFFFFF;\n",
              "    }\n",
              "  </style>\n",
              "\n",
              "    <script>\n",
              "      const buttonEl =\n",
              "        document.querySelector('#df-c18b46fe-6d0d-4d86-883b-012dca388f82 button.colab-df-convert');\n",
              "      buttonEl.style.display =\n",
              "        google.colab.kernel.accessAllowed ? 'block' : 'none';\n",
              "\n",
              "      async function convertToInteractive(key) {\n",
              "        const element = document.querySelector('#df-c18b46fe-6d0d-4d86-883b-012dca388f82');\n",
              "        const dataTable =\n",
              "          await google.colab.kernel.invokeFunction('convertToInteractive',\n",
              "                                                    [key], {});\n",
              "        if (!dataTable) return;\n",
              "\n",
              "        const docLinkHtml = 'Like what you see? Visit the ' +\n",
              "          '<a target=\"_blank\" href=https://colab.research.google.com/notebooks/data_table.ipynb>data table notebook</a>'\n",
              "          + ' to learn more about interactive tables.';\n",
              "        element.innerHTML = '';\n",
              "        dataTable['output_type'] = 'display_data';\n",
              "        await google.colab.output.renderOutput(dataTable, element);\n",
              "        const docLink = document.createElement('div');\n",
              "        docLink.innerHTML = docLinkHtml;\n",
              "        element.appendChild(docLink);\n",
              "      }\n",
              "    </script>\n",
              "  </div>\n",
              "\n",
              "\n",
              "<div id=\"df-564f1df4-05af-4ef9-aac8-33f1f63e996e\">\n",
              "  <button class=\"colab-df-quickchart\" onclick=\"quickchart('df-564f1df4-05af-4ef9-aac8-33f1f63e996e')\"\n",
              "            title=\"Suggest charts\"\n",
              "            style=\"display:none;\">\n",
              "\n",
              "<svg xmlns=\"http://www.w3.org/2000/svg\" height=\"24px\"viewBox=\"0 0 24 24\"\n",
              "     width=\"24px\">\n",
              "    <g>\n",
              "        <path d=\"M19 3H5c-1.1 0-2 .9-2 2v14c0 1.1.9 2 2 2h14c1.1 0 2-.9 2-2V5c0-1.1-.9-2-2-2zM9 17H7v-7h2v7zm4 0h-2V7h2v10zm4 0h-2v-4h2v4z\"/>\n",
              "    </g>\n",
              "</svg>\n",
              "  </button>\n",
              "\n",
              "<style>\n",
              "  .colab-df-quickchart {\n",
              "      --bg-color: #E8F0FE;\n",
              "      --fill-color: #1967D2;\n",
              "      --hover-bg-color: #E2EBFA;\n",
              "      --hover-fill-color: #174EA6;\n",
              "      --disabled-fill-color: #AAA;\n",
              "      --disabled-bg-color: #DDD;\n",
              "  }\n",
              "\n",
              "  [theme=dark] .colab-df-quickchart {\n",
              "      --bg-color: #3B4455;\n",
              "      --fill-color: #D2E3FC;\n",
              "      --hover-bg-color: #434B5C;\n",
              "      --hover-fill-color: #FFFFFF;\n",
              "      --disabled-bg-color: #3B4455;\n",
              "      --disabled-fill-color: #666;\n",
              "  }\n",
              "\n",
              "  .colab-df-quickchart {\n",
              "    background-color: var(--bg-color);\n",
              "    border: none;\n",
              "    border-radius: 50%;\n",
              "    cursor: pointer;\n",
              "    display: none;\n",
              "    fill: var(--fill-color);\n",
              "    height: 32px;\n",
              "    padding: 0;\n",
              "    width: 32px;\n",
              "  }\n",
              "\n",
              "  .colab-df-quickchart:hover {\n",
              "    background-color: var(--hover-bg-color);\n",
              "    box-shadow: 0 1px 2px rgba(60, 64, 67, 0.3), 0 1px 3px 1px rgba(60, 64, 67, 0.15);\n",
              "    fill: var(--button-hover-fill-color);\n",
              "  }\n",
              "\n",
              "  .colab-df-quickchart-complete:disabled,\n",
              "  .colab-df-quickchart-complete:disabled:hover {\n",
              "    background-color: var(--disabled-bg-color);\n",
              "    fill: var(--disabled-fill-color);\n",
              "    box-shadow: none;\n",
              "  }\n",
              "\n",
              "  .colab-df-spinner {\n",
              "    border: 2px solid var(--fill-color);\n",
              "    border-color: transparent;\n",
              "    border-bottom-color: var(--fill-color);\n",
              "    animation:\n",
              "      spin 1s steps(1) infinite;\n",
              "  }\n",
              "\n",
              "  @keyframes spin {\n",
              "    0% {\n",
              "      border-color: transparent;\n",
              "      border-bottom-color: var(--fill-color);\n",
              "      border-left-color: var(--fill-color);\n",
              "    }\n",
              "    20% {\n",
              "      border-color: transparent;\n",
              "      border-left-color: var(--fill-color);\n",
              "      border-top-color: var(--fill-color);\n",
              "    }\n",
              "    30% {\n",
              "      border-color: transparent;\n",
              "      border-left-color: var(--fill-color);\n",
              "      border-top-color: var(--fill-color);\n",
              "      border-right-color: var(--fill-color);\n",
              "    }\n",
              "    40% {\n",
              "      border-color: transparent;\n",
              "      border-right-color: var(--fill-color);\n",
              "      border-top-color: var(--fill-color);\n",
              "    }\n",
              "    60% {\n",
              "      border-color: transparent;\n",
              "      border-right-color: var(--fill-color);\n",
              "    }\n",
              "    80% {\n",
              "      border-color: transparent;\n",
              "      border-right-color: var(--fill-color);\n",
              "      border-bottom-color: var(--fill-color);\n",
              "    }\n",
              "    90% {\n",
              "      border-color: transparent;\n",
              "      border-bottom-color: var(--fill-color);\n",
              "    }\n",
              "  }\n",
              "</style>\n",
              "\n",
              "  <script>\n",
              "    async function quickchart(key) {\n",
              "      const quickchartButtonEl =\n",
              "        document.querySelector('#' + key + ' button');\n",
              "      quickchartButtonEl.disabled = true;  // To prevent multiple clicks.\n",
              "      quickchartButtonEl.classList.add('colab-df-spinner');\n",
              "      try {\n",
              "        const charts = await google.colab.kernel.invokeFunction(\n",
              "            'suggestCharts', [key], {});\n",
              "      } catch (error) {\n",
              "        console.error('Error during call to suggestCharts:', error);\n",
              "      }\n",
              "      quickchartButtonEl.classList.remove('colab-df-spinner');\n",
              "      quickchartButtonEl.classList.add('colab-df-quickchart-complete');\n",
              "    }\n",
              "    (() => {\n",
              "      let quickchartButtonEl =\n",
              "        document.querySelector('#df-564f1df4-05af-4ef9-aac8-33f1f63e996e button');\n",
              "      quickchartButtonEl.style.display =\n",
              "        google.colab.kernel.accessAllowed ? 'block' : 'none';\n",
              "    })();\n",
              "  </script>\n",
              "</div>\n",
              "\n",
              "    </div>\n",
              "  </div>\n"
            ],
            "application/vnd.google.colaboratory.intrinsic+json": {
              "type": "dataframe",
              "summary": "{\n  \"name\": \"train_model(model, train_loader, val_loader, epochs=3)\",\n  \"rows\": 3,\n  \"fields\": [\n    {\n      \"column\": \"Epoche\",\n      \"properties\": {\n        \"dtype\": \"string\",\n        \"num_unique_values\": 3,\n        \"samples\": [\n          \"Epoca 1\",\n          \"Epoca 2\",\n          \"Epoca 3\"\n        ],\n        \"semantic_type\": \"\",\n        \"description\": \"\"\n      }\n    },\n    {\n      \"column\": \"Training Loss\",\n      \"properties\": {\n        \"dtype\": \"number\",\n        \"std\": 0.13316656236958785,\n        \"min\": 0.05,\n        \"max\": 0.31,\n        \"num_unique_values\": 3,\n        \"samples\": [\n          0.31,\n          0.13,\n          0.05\n        ],\n        \"semantic_type\": \"\",\n        \"description\": \"\"\n      }\n    },\n    {\n      \"column\": \"Valid. Loss\",\n      \"properties\": {\n        \"dtype\": \"number\",\n        \"std\": 0.05131601439446883,\n        \"min\": 0.27,\n        \"max\": 0.37,\n        \"num_unique_values\": 3,\n        \"samples\": [\n          0.37,\n          0.34,\n          0.27\n        ],\n        \"semantic_type\": \"\",\n        \"description\": \"\"\n      }\n    },\n    {\n      \"column\": \"Valid. Accur.\",\n      \"properties\": {\n        \"dtype\": \"number\",\n        \"std\": 0.01527525231651948,\n        \"min\": 0.89,\n        \"max\": 0.92,\n        \"num_unique_values\": 3,\n        \"samples\": [\n          0.89,\n          0.9,\n          0.92\n        ],\n        \"semantic_type\": \"\",\n        \"description\": \"\"\n      }\n    },\n    {\n      \"column\": \"Training Time\",\n      \"properties\": {\n        \"dtype\": \"object\",\n        \"num_unique_values\": 1,\n        \"samples\": [\n          \"00:00:13\"\n        ],\n        \"semantic_type\": \"\",\n        \"description\": \"\"\n      }\n    }\n  ]\n}"
            }
          },
          "metadata": {},
          "execution_count": 35
        }
      ]
    },
    {
      "cell_type": "code",
      "source": [
        "plot_confusion_matrices(model, val_loader)"
      ],
      "metadata": {
        "colab": {
          "base_uri": "https://localhost:8080/",
          "height": 962
        },
        "id": "nTwgc9G5xdOf",
        "outputId": "515eadf5-8f98-43db-ac95-6a1337462138"
      },
      "execution_count": 40,
      "outputs": [
        {
          "output_type": "display_data",
          "data": {
            "text/plain": [
              "<Figure size 800x500 with 0 Axes>"
            ]
          },
          "metadata": {}
        },
        {
          "output_type": "display_data",
          "data": {
            "text/plain": [
              "<Figure size 640x480 with 2 Axes>"
            ],
            "image/png": "[encoded data removed]"
          },
          "metadata": {}
        },
        {
          "output_type": "display_data",
          "data": {
            "text/plain": [
              "<Figure size 800x500 with 0 Axes>"
            ]
          },
          "metadata": {}
        },
        {
          "output_type": "display_data",
          "data": {
            "text/plain": [
              "<Figure size 640x480 with 2 Axes>"
            ],
            "image/png": "[encoded data removed]"
          },
          "metadata": {}
        }
      ]
    }
  ]
}