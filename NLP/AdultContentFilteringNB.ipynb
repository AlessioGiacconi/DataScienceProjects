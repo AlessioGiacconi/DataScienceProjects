{
  "cells": [
    {
      "cell_type": "code",
      "execution_count": 1,
      "metadata": {
        "colab": {
          "base_uri": "https://localhost:8080/"
        },
        "id": "WEuvSkiJQ8pB",
        "outputId": "5566fc7c-4422-429d-a7db-dbd2001f6715"
      },
      "outputs": [
        {
          "name": "stdout",
          "output_type": "stream",
          "text": [
            "Requirement already satisfied: numpy in /opt/homebrew/lib/python3.11/site-packages (1.26.4)\n",
            "Requirement already satisfied: pandas in /opt/homebrew/lib/python3.11/site-packages (2.2.3)\n",
            "Requirement already satisfied: matplotlib in /opt/homebrew/lib/python3.11/site-packages (3.10.0)\n",
            "Requirement already satisfied: wordcloud in /opt/homebrew/lib/python3.11/site-packages (1.9.4)\n",
            "Requirement already satisfied: nltk in /opt/homebrew/lib/python3.11/site-packages (3.9.1)\n",
            "Requirement already satisfied: scikit-learn in /opt/homebrew/lib/python3.11/site-packages (1.6.1)\n",
            "Requirement already satisfied: textblob in /opt/homebrew/lib/python3.11/site-packages (0.19.0)\n",
            "Requirement already satisfied: gensim in /opt/homebrew/lib/python3.11/site-packages (4.3.3)\n",
            "Requirement already satisfied: imblearn in /opt/homebrew/lib/python3.11/site-packages (0.0)\n",
            "Requirement already satisfied: demoji in /opt/homebrew/lib/python3.11/site-packages (1.1.0)\n",
            "Requirement already satisfied: tensorflow in /opt/homebrew/lib/python3.11/site-packages (2.17.1)\n",
            "Requirement already satisfied: keras in /opt/homebrew/lib/python3.11/site-packages (3.8.0)\n",
            "Requirement already satisfied: seaborn in /opt/homebrew/lib/python3.11/site-packages (0.13.2)\n",
            "Requirement already satisfied: transformers in /opt/homebrew/lib/python3.11/site-packages (4.49.0)\n",
            "Requirement already satisfied: torch in /opt/homebrew/lib/python3.11/site-packages (2.6.0)\n",
            "Requirement already satisfied: python-dateutil>=2.8.2 in /opt/homebrew/lib/python3.11/site-packages (from pandas) (2.9.0.post0)\n",
            "Requirement already satisfied: pytz>=2020.1 in /opt/homebrew/lib/python3.11/site-packages (from pandas) (2024.2)\n",
            "Requirement already satisfied: tzdata>=2022.7 in /opt/homebrew/lib/python3.11/site-packages (from pandas) (2024.2)\n",
            "Requirement already satisfied: contourpy>=1.0.1 in /opt/homebrew/lib/python3.11/site-packages (from matplotlib) (1.3.1)\n",
            "Requirement already satisfied: cycler>=0.10 in /opt/homebrew/lib/python3.11/site-packages (from matplotlib) (0.12.1)\n",
            "Requirement already satisfied: fonttools>=4.22.0 in /opt/homebrew/lib/python3.11/site-packages (from matplotlib) (4.55.3)\n",
            "Requirement already satisfied: kiwisolver>=1.3.1 in /opt/homebrew/lib/python3.11/site-packages (from matplotlib) (1.4.8)\n",
            "Requirement already satisfied: packaging>=20.0 in /opt/homebrew/lib/python3.11/site-packages (from matplotlib) (24.2)\n",
            "Requirement already satisfied: pillow>=8 in /opt/homebrew/lib/python3.11/site-packages (from matplotlib) (11.1.0)\n",
            "Requirement already satisfied: pyparsing>=2.3.1 in /opt/homebrew/lib/python3.11/site-packages (from matplotlib) (3.2.1)\n",
            "Requirement already satisfied: click in /opt/homebrew/lib/python3.11/site-packages (from nltk) (8.1.8)\n",
            "Requirement already satisfied: joblib in /opt/homebrew/lib/python3.11/site-packages (from nltk) (1.4.2)\n",
            "Requirement already satisfied: regex>=2021.8.3 in /opt/homebrew/lib/python3.11/site-packages (from nltk) (2024.11.6)\n",
            "Requirement already satisfied: tqdm in /opt/homebrew/lib/python3.11/site-packages (from nltk) (4.67.1)\n",
            "Requirement already satisfied: scipy>=1.6.0 in /opt/homebrew/lib/python3.11/site-packages (from scikit-learn) (1.13.1)\n",
            "Requirement already satisfied: threadpoolctl>=3.1.0 in /opt/homebrew/lib/python3.11/site-packages (from scikit-learn) (3.5.0)\n",
            "Requirement already satisfied: smart-open>=1.8.1 in /opt/homebrew/lib/python3.11/site-packages (from gensim) (7.1.0)\n",
            "Requirement already satisfied: imbalanced-learn in /opt/homebrew/lib/python3.11/site-packages (from imblearn) (0.13.0)\n",
            "Requirement already satisfied: absl-py>=1.0.0 in /opt/homebrew/lib/python3.11/site-packages (from tensorflow) (2.1.0)\n",
            "Requirement already satisfied: astunparse>=1.6.0 in /opt/homebrew/lib/python3.11/site-packages (from tensorflow) (1.6.3)\n",
            "Requirement already satisfied: flatbuffers>=24.3.25 in /opt/homebrew/lib/python3.11/site-packages (from tensorflow) (25.2.10)\n",
            "Requirement already satisfied: gast!=0.5.0,!=0.5.1,!=0.5.2,>=0.2.1 in /opt/homebrew/lib/python3.11/site-packages (from tensorflow) (0.6.0)\n",
            "Requirement already satisfied: google-pasta>=0.1.1 in /opt/homebrew/lib/python3.11/site-packages (from tensorflow) (0.2.0)\n",
            "Requirement already satisfied: h5py>=3.10.0 in /opt/homebrew/lib/python3.11/site-packages (from tensorflow) (3.13.0)\n",
            "Requirement already satisfied: libclang>=13.0.0 in /opt/homebrew/lib/python3.11/site-packages (from tensorflow) (18.1.1)\n",
            "Requirement already satisfied: ml-dtypes<0.5.0,>=0.3.1 in /opt/homebrew/lib/python3.11/site-packages (from tensorflow) (0.4.1)\n",
            "Requirement already satisfied: opt-einsum>=2.3.2 in /opt/homebrew/lib/python3.11/site-packages (from tensorflow) (3.4.0)\n",
            "Requirement already satisfied: protobuf!=4.21.0,!=4.21.1,!=4.21.2,!=4.21.3,!=4.21.4,!=4.21.5,<5.0.0dev,>=3.20.3 in /opt/homebrew/lib/python3.11/site-packages (from tensorflow) (4.25.6)\n",
            "Requirement already satisfied: requests<3,>=2.21.0 in /opt/homebrew/lib/python3.11/site-packages (from tensorflow) (2.32.3)\n",
            "Requirement already satisfied: setuptools in /opt/homebrew/lib/python3.11/site-packages (from tensorflow) (76.0.0)\n",
            "Requirement already satisfied: six>=1.12.0 in /opt/homebrew/lib/python3.11/site-packages (from tensorflow) (1.17.0)\n",
            "Requirement already satisfied: termcolor>=1.1.0 in /opt/homebrew/lib/python3.11/site-packages (from tensorflow) (2.5.0)\n",
            "Requirement already satisfied: typing-extensions>=3.6.6 in /opt/homebrew/lib/python3.11/site-packages (from tensorflow) (4.12.2)\n",
            "Requirement already satisfied: wrapt>=1.11.0 in /opt/homebrew/lib/python3.11/site-packages (from tensorflow) (1.17.2)\n",
            "Requirement already satisfied: grpcio<2.0,>=1.24.3 in /opt/homebrew/lib/python3.11/site-packages (from tensorflow) (1.70.0)\n",
            "Requirement already satisfied: tensorboard<2.18,>=2.17 in /opt/homebrew/lib/python3.11/site-packages (from tensorflow) (2.17.1)\n",
            "Requirement already satisfied: tensorflow-io-gcs-filesystem>=0.23.1 in /opt/homebrew/lib/python3.11/site-packages (from tensorflow) (0.37.1)\n",
            "Requirement already satisfied: rich in /opt/homebrew/lib/python3.11/site-packages (from keras) (13.9.4)\n",
            "Requirement already satisfied: namex in /opt/homebrew/lib/python3.11/site-packages (from keras) (0.0.8)\n",
            "Requirement already satisfied: optree in /opt/homebrew/lib/python3.11/site-packages (from keras) (0.14.0)\n",
            "Requirement already satisfied: filelock in /opt/homebrew/lib/python3.11/site-packages (from transformers) (3.17.0)\n",
            "Requirement already satisfied: huggingface-hub<1.0,>=0.26.0 in /opt/homebrew/lib/python3.11/site-packages (from transformers) (0.29.2)\n",
            "Requirement already satisfied: pyyaml>=5.1 in /opt/homebrew/lib/python3.11/site-packages (from transformers) (6.0.2)\n",
            "Requirement already satisfied: tokenizers<0.22,>=0.21 in /opt/homebrew/lib/python3.11/site-packages (from transformers) (0.21.0)\n",
            "Requirement already satisfied: safetensors>=0.4.1 in /opt/homebrew/lib/python3.11/site-packages (from transformers) (0.5.3)\n",
            "Requirement already satisfied: networkx in /opt/homebrew/lib/python3.11/site-packages (from torch) (3.4.2)\n",
            "Requirement already satisfied: jinja2 in /opt/homebrew/lib/python3.11/site-packages (from torch) (3.1.6)\n",
            "Requirement already satisfied: fsspec in /opt/homebrew/lib/python3.11/site-packages (from torch) (2025.2.0)\n",
            "Requirement already satisfied: sympy==1.13.1 in /opt/homebrew/lib/python3.11/site-packages (from torch) (1.13.1)\n",
            "Requirement already satisfied: mpmath<1.4,>=1.1.0 in /opt/homebrew/lib/python3.11/site-packages (from sympy==1.13.1->torch) (1.3.0)\n",
            "Requirement already satisfied: wheel<1.0,>=0.23.0 in /opt/homebrew/lib/python3.11/site-packages (from astunparse>=1.6.0->tensorflow) (0.45.1)\n",
            "Requirement already satisfied: charset-normalizer<4,>=2 in /opt/homebrew/lib/python3.11/site-packages (from requests<3,>=2.21.0->tensorflow) (3.4.1)\n",
            "Requirement already satisfied: idna<4,>=2.5 in /opt/homebrew/lib/python3.11/site-packages (from requests<3,>=2.21.0->tensorflow) (3.10)\n",
            "Requirement already satisfied: urllib3<3,>=1.21.1 in /opt/homebrew/lib/python3.11/site-packages (from requests<3,>=2.21.0->tensorflow) (2.3.0)\n",
            "Requirement already satisfied: certifi>=2017.4.17 in /opt/homebrew/lib/python3.11/site-packages (from requests<3,>=2.21.0->tensorflow) (2025.1.31)\n",
            "Requirement already satisfied: markdown>=2.6.8 in /opt/homebrew/lib/python3.11/site-packages (from tensorboard<2.18,>=2.17->tensorflow) (3.7)\n",
            "Requirement already satisfied: tensorboard-data-server<0.8.0,>=0.7.0 in /opt/homebrew/lib/python3.11/site-packages (from tensorboard<2.18,>=2.17->tensorflow) (0.7.2)\n",
            "Requirement already satisfied: werkzeug>=1.0.1 in /opt/homebrew/lib/python3.11/site-packages (from tensorboard<2.18,>=2.17->tensorflow) (3.1.3)\n",
            "Requirement already satisfied: sklearn-compat<1,>=0.1 in /opt/homebrew/lib/python3.11/site-packages (from imbalanced-learn->imblearn) (0.1.3)\n",
            "Requirement already satisfied: MarkupSafe>=2.0 in /opt/homebrew/lib/python3.11/site-packages (from jinja2->torch) (3.0.2)\n",
            "Requirement already satisfied: markdown-it-py>=2.2.0 in /opt/homebrew/lib/python3.11/site-packages (from rich->keras) (3.0.0)\n",
            "Requirement already satisfied: pygments<3.0.0,>=2.13.0 in /opt/homebrew/lib/python3.11/site-packages (from rich->keras) (2.19.1)\n",
            "Requirement already satisfied: mdurl~=0.1 in /opt/homebrew/lib/python3.11/site-packages (from markdown-it-py>=2.2.0->rich->keras) (0.1.2)\n"
          ]
        }
      ],
      "source": [
        "! pip install numpy pandas matplotlib wordcloud nltk scikit-learn textblob gensim imblearn demoji tensorflow keras seaborn transformers torch"
      ]
    },
    {
      "cell_type": "code",
      "execution_count": 2,
      "metadata": {
        "colab": {
          "base_uri": "https://localhost:8080/"
        },
        "id": "18AK3ZJuRk_z",
        "outputId": "b90e1893-7139-43f3-c72c-b6e82016bd76"
      },
      "outputs": [
        {
          "name": "stderr",
          "output_type": "stream",
          "text": [
            "[nltk_data] Downloading package punkt_tab to\n",
            "[nltk_data]     /Users/andreaiasenzaniro/nltk_data...\n",
            "[nltk_data]   Package punkt_tab is already up-to-date!\n",
            "[nltk_data] Downloading package stopwords to\n",
            "[nltk_data]     /Users/andreaiasenzaniro/nltk_data...\n",
            "[nltk_data]   Package stopwords is already up-to-date!\n",
            "[nltk_data] Downloading package wordnet to\n",
            "[nltk_data]     /Users/andreaiasenzaniro/nltk_data...\n",
            "[nltk_data]   Package wordnet is already up-to-date!\n",
            "/var/folders/_y/cszqss6n29q_h8m3vt4b2lk80000gn/T/ipykernel_99722/4020399470.py:13: FutureWarning: The demoji.download_codes attribute is deprecated and will be removed from demoji in a future version. It is an unused attribute as emoji codes are now distributed directly with the demoji package.\n",
            "  demoji.download_codes() # dizionario delle emoji\n"
          ]
        }
      ],
      "source": [
        "import re\n",
        "import demoji\n",
        "import nltk\n",
        "from nltk.tokenize import TweetTokenizer, sent_tokenize, word_tokenize\n",
        "from nltk.corpus import stopwords\n",
        "from nltk.stem import WordNetLemmatizer\n",
        "from textblob import TextBlob\n",
        "import pandas as pd\n",
        "\n",
        "nltk.download('punkt_tab') #tokenizzazione\n",
        "nltk.download('stopwords') # stop words\n",
        "nltk.download('wordnet') # lemmatizzazione\n",
        "demoji.download_codes() # dizionario delle emoji"
      ]
    },
    {
      "cell_type": "code",
      "execution_count": null,
      "metadata": {
        "colab": {
          "base_uri": "https://localhost:8080/"
        },
        "id": "M_-lTV3pRyLo",
        "outputId": "bdfd419b-8f33-4f73-8b88-e1dd1884f4b3"
      },
      "outputs": [
        {
          "name": "stdout",
          "output_type": "stream",
          "text": [
            "Mounted at /content/drive\n"
          ]
        }
      ],
      "source": [
        "from google.colab import drive\n",
        "\n",
        "drive.mount('/content/drive')"
      ]
    },
    {
      "cell_type": "markdown",
      "metadata": {},
      "source": [
        "# 1. Import dataset e Preprocessing"
      ]
    },
    {
      "cell_type": "code",
      "execution_count": null,
      "metadata": {
        "colab": {
          "base_uri": "https://localhost:8080/"
        },
        "id": "vv1IqRF6R1Df",
        "outputId": "9f73fe1b-f884-4c0b-9fd2-7bfe85a2f5a4"
      },
      "outputs": [
        {
          "name": "stdout",
          "output_type": "stream",
          "text": [
            "Numero totale di commenti prima della rimozione: 18408\n",
            "Valori NaN nella colonna Comment: 44\n",
            "Numero totale di commenti dopo la rimozione: 18364\n"
          ]
        },
        {
          "data": {
            "application/vnd.microsoft.datawrangler.viewer.v0+json": {
              "columns": [
                {
                  "name": "index",
                  "rawType": "int64",
                  "type": "integer"
                },
                {
                  "name": "Comment",
                  "rawType": "object",
                  "type": "string"
                },
                {
                  "name": "Sentiment",
                  "rawType": "object",
                  "type": "string"
                }
              ],
              "conversionMethod": "pd.DataFrame",
              "ref": "08152cb6-a63d-4e67-a1db-4e91b90cfefd",
              "rows": [
                [
                  "0",
                  "lets not forget that apple pay in 2014 required a brand new iphone in order to use it a significant portion of apples user base wasnt able to use it even if they wanted to as each successive iphone incorporated the technology and older iphones were replaced the number of people who could use the technology increased",
                  "neutral"
                ],
                [
                  "1",
                  "here in nz 50 of retailers don’t even have contactless credit card machines like paywave which support apple pay they don’t like the high fees that come with these",
                  "negative"
                ],
                [
                  "2",
                  "i will forever acknowledge this channel with the help of your lessons and ideas explanations now its quite helpful while youll just sit at your comfort and monitor your account growth",
                  "positive"
                ],
                [
                  "3",
                  "whenever i go to a place that doesn’t take apple pay doesn’t happen too often it’s such a drag between ‘contactless covid’ habits and my getting the apple card i’ve gotten so used to apple pay that i get seriously annoyed when a store doesn’t take it it feels like a shock it’s crazy how quickly it took over my shopping routine i’ve officially been brainwashed by apple because now it feels so inconvenient to even carry a physical card in my pocket",
                  "negative"
                ],
                [
                  "4",
                  "apple pay is so convenient secure and easy to use i used it while at the korean and japanese airports no need for physical credit cards",
                  "positive"
                ]
              ],
              "shape": {
                "columns": 2,
                "rows": 5
              }
            },
            "text/html": [
              "<div>\n",
              "<style scoped>\n",
              "    .dataframe tbody tr th:only-of-type {\n",
              "        vertical-align: middle;\n",
              "    }\n",
              "\n",
              "    .dataframe tbody tr th {\n",
              "        vertical-align: top;\n",
              "    }\n",
              "\n",
              "    .dataframe thead th {\n",
              "        text-align: right;\n",
              "    }\n",
              "</style>\n",
              "<table border=\"1\" class=\"dataframe\">\n",
              "  <thead>\n",
              "    <tr style=\"text-align: right;\">\n",
              "      <th></th>\n",
              "      <th>Comment</th>\n",
              "      <th>Sentiment</th>\n",
              "    </tr>\n",
              "  </thead>\n",
              "  <tbody>\n",
              "    <tr>\n",
              "      <th>0</th>\n",
              "      <td>lets not forget that apple pay in 2014 require...</td>\n",
              "      <td>neutral</td>\n",
              "    </tr>\n",
              "    <tr>\n",
              "      <th>1</th>\n",
              "      <td>here in nz 50 of retailers don’t even have con...</td>\n",
              "      <td>negative</td>\n",
              "    </tr>\n",
              "    <tr>\n",
              "      <th>2</th>\n",
              "      <td>i will forever acknowledge this channel with t...</td>\n",
              "      <td>positive</td>\n",
              "    </tr>\n",
              "    <tr>\n",
              "      <th>3</th>\n",
              "      <td>whenever i go to a place that doesn’t take app...</td>\n",
              "      <td>negative</td>\n",
              "    </tr>\n",
              "    <tr>\n",
              "      <th>4</th>\n",
              "      <td>apple pay is so convenient secure and easy to ...</td>\n",
              "      <td>positive</td>\n",
              "    </tr>\n",
              "  </tbody>\n",
              "</table>\n",
              "</div>"
            ],
            "text/plain": [
              "                                             Comment Sentiment\n",
              "0  lets not forget that apple pay in 2014 require...   neutral\n",
              "1  here in nz 50 of retailers don’t even have con...  negative\n",
              "2  i will forever acknowledge this channel with t...  positive\n",
              "3  whenever i go to a place that doesn’t take app...  negative\n",
              "4  apple pay is so convenient secure and easy to ...  positive"
            ]
          },
          "execution_count": 3,
          "metadata": {},
          "output_type": "execute_result"
        }
      ],
      "source": [
        "# Verifichaimo se ci sono valori NaN nei commenti. Se sono pochi rimuoviamo le righe associate.\n",
        "\n",
        "# Caricare il dataset (modifica il percorso se necessario)\n",
        "file_path = \"datasets/YoutubeCommentsDataSet.csv\"\n",
        "df = pd.read_csv(file_path)\n",
        "\n",
        "# Controlla se ci sono valori NaN nella colonna \"Comment\"\n",
        "print(f\"Numero totale di commenti prima della rimozione: {len(df)}\")\n",
        "print(f\"Valori NaN nella colonna Comment: {df['Comment'].isna().sum()}\")\n",
        "\n",
        "# Se ci sono NaN, rimuoverli\n",
        "df = df.dropna(subset=['Comment'])\n",
        "print(f\"Numero totale di commenti dopo la rimozione: {len(df)}\")\n",
        "\n",
        "df.head()"
      ]
    },
    {
      "cell_type": "code",
      "execution_count": 4,
      "metadata": {
        "colab": {
          "base_uri": "https://localhost:8080/"
        },
        "id": "hghCADMKjpvR",
        "outputId": "9b6b1ddc-7043-4467-c14f-96e7ac5e5733"
      },
      "outputs": [
        {
          "name": "stdout",
          "output_type": "stream",
          "text": [
            "Numero di commenti contenenti almeno una parola della lista: 441\n"
          ]
        }
      ],
      "source": [
        "import re\n",
        "\n",
        "# Lista di parole da contare\n",
        "sexual_words = [\n",
        "    \"sex\", \"porn\", \"xxx\", \"nude\", \"explicit\", \"18+\", \"nsfw\", \"hardcore\",\n",
        "    \"naked\", \"erotic\", \"fetish\", \"hot\", \"fuck\", \"bitch\", \"boobs\",\n",
        "    \"dick\", \"pussy\", \"cock\", \"slut\", \"milf\", \"cum\", \"orgasm\",\n",
        "    \"blowjob\", \"handjob\", \"deepthroat\", \"threesome\", \"gangbang\",\n",
        "    \"stripper\", \"hooker\", \"escort\", \"camgirl\", \"sugar daddy\",\n",
        "    \"bondage\", \"bdsm\", \"dominatrix\", \"kinky\", \"lick\", \"moan\",\n",
        "    \"anal\", \"vibrator\", \"masturbation\", \"climax\", \"sex tape\",\n",
        "    \"playboy\", \"sensual\", \"seduce\", \"twerking\", \"wet\", \"squirting\",\n",
        "    \"penetration\", \"foreplay\", \"erogenous\", \"nipple\", \"lap dance\",\n",
        "    \"thong\", \"lingerie\", \"panties\", \"semen\", \"horny\", \"aroused\",\n",
        "    \"provocative\", \"breasts\", \"vagina\", \"penis\", \"buttocks\",\n",
        "    \"oral sex\", \"oral action\", \"attractive\", \"seduction\",\n",
        "    \"softcore\", \"hardcore\", \"deepfake\", \"taboo\", \"cunnilingus\",\n",
        "    \"dominance\", \"submission\", \"degrading\", \"wet dream\",\n",
        "    \"nude selfies\", \"sugar baby\", \"sexual fantasy\"\n",
        "]\n",
        "\n",
        "violence_words = [\n",
        "    \"murder\", \"kill\", \"slaughter\", \"torture\", \"execute\", \"decapitate\",\n",
        "    \"terrorist\", \"bomb\", \"massacre\", \"shoot\", \"gun\", \"rifle\",\n",
        "    \"stabbing\", \"lynch\", \"assassinate\", \"bloodbath\", \"beheading\",\n",
        "    \"strangle\", \"rape\", \"abuse\", \"assault\", \"harassment\",\n",
        "    \"pedophile\", \"molestation\", \"kidnap\", \"hostage\", \"extortion\",\n",
        "    \"death threat\", \"violence\", \"riot\", \"fight\", \"attack\",\n",
        "    \"mugging\", \"aggression\", \"choke\", \"punch\", \"stab\", \"burn\",\n",
        "    \"hang\", \"drown\", \"brutal\", \"mutilation\", \"genocide\",\n",
        "    \"suffocate\", \"savage\", \"blood\", \"gore\", \"brutality\",\n",
        "    \"war crime\", \"child abuse\", \"animal abuse\", \"executed\",\n",
        "    \"tied up\", \"psychopath\", \"serial killer\", \"homicide\",\n",
        "    \"strangulation\", \"cruel\", \"sadistic\", \"deadly\", \"hatred\",\n",
        "    \"threat\", \"beaten\", \"burned alive\", \"gunned down\",\n",
        "    \"assaulted\", \"violated\", \"warzone\", \"dismember\",\n",
        "    \"disfigure\", \"tortured\", \"violent\", \"corpses\"\n",
        "]\n",
        "\n",
        "words_to_count = violence_words + sexual_words\n",
        "comment_count = df[\"Comment\"].astype(str).apply(lambda comment: any(re.search(rf\"\\b{re.escape(word)}\\b\", comment, re.IGNORECASE) for word in words_to_count)).sum()\n",
        "print(f\"Numero di commenti contenenti almeno una parola della lista: {comment_count}\")"
      ]
    },
    {
      "cell_type": "markdown",
      "metadata": {
        "id": "zT56Jj61RcbY"
      },
      "source": [
        "## Preprocessing"
      ]
    },
    {
      "cell_type": "code",
      "execution_count": 5,
      "metadata": {
        "id": "2HVJOPRJReE8"
      },
      "outputs": [],
      "source": [
        "# =========================\n",
        "# **1️⃣ Espansione delle contrazioni e slang**\n",
        "# =========================\n",
        "CONTRACTIONS_DICT = {\n",
        "    \"don't\": \"do not\", \"doesn't\": \"does not\", \"didn't\": \"did not\",\n",
        "    \"won't\": \"will not\", \"can't\": \"cannot\", \"i'm\": \"i am\", \"you're\": \"you are\",\n",
        "    \"it's\": \"it is\", \"they're\": \"they are\", \"we're\": \"we are\", \"isn't\": \"is not\",\n",
        "    \"aren't\": \"are not\", \"haven't\": \"have not\", \"hasn't\": \"has not\",\n",
        "    \"wasn't\": \"was not\", \"weren't\": \"were not\", \"shouldn't\": \"should not\",\n",
        "    \"wouldn't\": \"would not\", \"couldn't\": \"could not\", \"mustn't\": \"must not\"\n",
        "}\n",
        "\n",
        "SLANG_DICT = {\n",
        "    \"nude\": \"naked\", \"xxx\": \"porn\", \"tits\": \"breasts\", \"dick\": \"penis\",\n",
        "    \"pussy\": \"vagina\", \"bj\": \"blowjob\", \"cum\": \"semen\", \"hornyk\": \"aroused\",\n",
        "    \"milf\": \"attractive older woman\", \"nsfw\": \"not safe for work\",\n",
        "    \"thirsty\": \"sexually desperate\", \"ass\": \"buttocks\", \"booty\": \"buttocks\",\n",
        "    \"deepthroat\": \"oral sex\", \"suck\": \"oral action\", \"sexy\": \"attractive\"\n",
        "}\n",
        "\n",
        "def expand_contractions_and_slang(text):\n",
        "    \"\"\"Espande le contrazioni e sostituisce lo slang con termini standard.\"\"\"\n",
        "    for key, value in {**CONTRACTIONS_DICT, **SLANG_DICT}.items():\n",
        "        text = re.sub(r\"\\b\" + key + r\"\\b\", value, text)\n",
        "    return text\n",
        "\n",
        "# =========================\n",
        "# **2️⃣ Correzione ortografica**\n",
        "# =========================\n",
        "def correct_spelling(text):\n",
        "    \"\"\"Corregge gli errori ortografici usando TextBlob.\"\"\"\n",
        "    return str(TextBlob(text).correct())\n",
        "\n",
        "# =========================\n",
        "# **3️⃣ Segmentazione delle frasi**\n",
        "# =========================\n",
        "def segment_sentences(text):\n",
        "    \"\"\"Divide il testo in frasi separate.\"\"\"\n",
        "    return sent_tokenize(text) if isinstance(text, str) else []\n",
        "\n",
        "# =========================\n",
        "# **4️⃣ Gestione delle emoji e simboli ASCII**\n",
        "# =========================\n",
        "EMOJI_DICT = {\n",
        "    \"😊\": \"happy\", \"😂\": \"laugh\", \"😢\": \"sad\", \"😡\": \"angry\", \"😍\": \"love\",\n",
        "    \"😎\": \"cool\", \"👍\": \"positive\", \"👎\": \"negative\", \"🔥\": \"exciting\",\n",
        "    \"🚀\": \"fast\", \"🎉\": \"celebration\", \"💯\": \"perfect\", \"🙏\": \"thankful\",\n",
        "    \"🤔\": \"thinking\", \"😭\": \"crying\", \"😴\": \"sleepy\", \"😆\": \"funny\",\n",
        "    \"🥳\": \"party\", \"💪\": \"strong\", \"🤗\": \"hug\", \"🥺\": \"emotional\", \"❤️\": \"love\",\n",
        "    \"💔\": \"heartbroken\", \"🤬\": \"furious\", \"🤯\": \"mindblown\", \"😇\": \"innocent\",\n",
        "    \"👀\": \"looking\", \"🤓\": \"nerd\", \"🤤\": \"drooling\", \"🤡\": \"clown\"\n",
        "}\n",
        "\n",
        "def replace_emojis_and_ascii(text):\n",
        "    \"\"\"Sostituisce le emoji con parole e gestisce simboli ASCII comuni.\"\"\"\n",
        "    for emoji, meaning in EMOJI_DICT.items():\n",
        "        text = text.replace(emoji, f\" {meaning} \")\n",
        "    text = demoji.replace(text, lambda x: f\" {demoji.replace(x)} \")\n",
        "\n",
        "    # Rileva e rimuove simboli ASCII sospetti\n",
        "    text = re.sub(r'(\\*\\*|\\*\\w+\\*|\\W+\\*{2,})', '', text)  # Rimuove **testo** o *testo*\n",
        "    text = re.sub(r'(\\bxx+\\b)', 'explicit', text)  # Rileva \"xxx\", \"xx\"\n",
        "\n",
        "    return text\n",
        "\n",
        "# =========================\n",
        "# **5️⃣ Rimozione Stop Words (personalizzata)**\n",
        "# =========================\n",
        "important_stopwords = {\"not\", \"no\", \"nor\", \"n't\", \"never\", \"hardly\", \"barely\", \"scarcely\",\n",
        "                       \"very\", \"really\", \"so\", \"extremely\", \"super\", \"terribly\", \"horribly\",\n",
        "                       \"awfully\", \"slightly\", \"somewhat\", \"but\", \"however\", \"although\",\n",
        "                       \"though\", \"yet\", \"i\", \"we\", \"you\", \"he\", \"she\", \"they\", \"my\", \"your\",\n",
        "                       \"why\", \"how\", \"what\"}\n",
        "\n",
        "stop_words = set(stopwords.words(\"english\")) - important_stopwords\n",
        "\n",
        "# =========================\n",
        "# **6️⃣ Funzione di Preprocessing Generale**\n",
        "# =========================\n",
        "def preprocess_text(text):\n",
        "    \"\"\"Esegue il preprocessing completo di un testo per adult content filtering.\"\"\"\n",
        "    if isinstance(text, str):\n",
        "        # 1. Converti il testo in minuscolo\n",
        "        text = text.lower()\n",
        "\n",
        "        # 2. Espansione di contrazioni e slang\n",
        "        text = expand_contractions_and_slang(text)\n",
        "\n",
        "        # 3. Rimozione di URL e menzioni (@username, #hashtag)\n",
        "        text = re.sub(r\"http\\S+|www\\S+|https\\S+\", \"\", text, flags=re.MULTILINE)\n",
        "        text = re.sub(r\"@\\w+|#\\w+\", \"\", text)\n",
        "\n",
        "        # 4. Gestione delle emoji e simboli ASCII\n",
        "        text = replace_emojis_and_ascii(text)\n",
        "\n",
        "        # 5. Rimozione di caratteri speciali e markup\n",
        "        text = re.sub(r\"[^a-z\\s]\", \"\", text)\n",
        "\n",
        "        # 6. Tokenizzazione con TweetTokenizer\n",
        "        tokenizer = TweetTokenizer()\n",
        "        tokens = tokenizer.tokenize(text)\n",
        "\n",
        "        # 7. Rimozione delle stop words\n",
        "        tokens = [word for word in tokens if word not in stop_words]\n",
        "\n",
        "        # 8. Lemmatizzazione\n",
        "        lemmatizer = WordNetLemmatizer()\n",
        "        tokens = [lemmatizer.lemmatize(word) for word in tokens]\n",
        "\n",
        "        # 9. Correzione ortografica\n",
        "        text = correct_spelling(\" \".join(tokens))\n",
        "\n",
        "        return text\n",
        "    return \"\""
      ]
    },
    {
      "cell_type": "markdown",
      "metadata": {},
      "source": [
        "## Apply preprocessing"
      ]
    },
    {
      "cell_type": "code",
      "execution_count": null,
      "metadata": {
        "colab": {
          "base_uri": "https://localhost:8080/",
          "height": 407
        },
        "id": "yjSSwxSQSP_h",
        "outputId": "80d3c773-24e8-4ee4-9e54-4dee32161350"
      },
      "outputs": [],
      "source": [
        "# Applicazione del preprocessamento e della segmentazione\n",
        "df['Segmented_Comments'] = df['Comment'].apply(segment_sentences)\n",
        "df['Processed_Comment'] = df['Comment'].apply(preprocess_text)\n",
        "\n",
        "# Visualizzare alcune righe del dataset preprocessato\n",
        "df.head()"
      ]
    },
    {
      "cell_type": "code",
      "execution_count": null,
      "metadata": {
        "id": "1_OeGCwJSV2c"
      },
      "outputs": [],
      "source": [
        "# Salvataggio del dataset preprocessato in formato Pickle\n",
        "df.to_pickle(\"datasets/Preprocessed_YoutubeComments_ACF.pkl\")\n",
        "print(\"Dataset salvato in formato Pickle!\")"
      ]
    },
    {
      "cell_type": "code",
      "execution_count": null,
      "metadata": {
        "colab": {
          "base_uri": "https://localhost:8080/"
        },
        "id": "RBl9r6qHSe9B",
        "outputId": "65615122-f523-4274-f8ec-1de6509a076f"
      },
      "outputs": [
        {
          "name": "stdout",
          "output_type": "stream",
          "text": [
            "<class 'pandas.core.frame.DataFrame'>\n",
            "Index: 18364 entries, 0 to 18407\n",
            "Data columns (total 4 columns):\n",
            " #   Column              Non-Null Count  Dtype \n",
            "---  ------              --------------  ----- \n",
            " 0   Comment             18364 non-null  object\n",
            " 1   Sentiment           18364 non-null  object\n",
            " 2   Segmented_Comments  18364 non-null  object\n",
            " 3   Processed_Comment   18364 non-null  object\n",
            "dtypes: object(4)\n",
            "memory usage: 717.3+ KB\n"
          ]
        }
      ],
      "source": [
        "# Caricamento del dataset preprocessato da Pickle\n",
        "path_pickle = \"datasets/Preprocessed_YoutubeComments_ACF.pkl\"\n",
        "\n",
        "df = pd.read_pickle(path_pickle)\n",
        "df.head()\n",
        "df.info()"
      ]
    },
    {
      "cell_type": "markdown",
      "metadata": {},
      "source": [
        "# Dataset Labeling"
      ]
    },
    {
      "cell_type": "code",
      "execution_count": null,
      "metadata": {
        "colab": {
          "base_uri": "https://localhost:8080/"
        },
        "id": "z73VTCYCACZA",
        "outputId": "e89672e8-20dd-49eb-8911-0d9d3ca819d1"
      },
      "outputs": [
        {
          "name": "stdout",
          "output_type": "stream",
          "text": [
            "Content_Label\n",
            "0    17816\n",
            "1      548\n",
            "Name: count, dtype: int64\n",
            "<class 'pandas.core.frame.DataFrame'>\n",
            "Index: 18364 entries, 0 to 18407\n",
            "Data columns (total 5 columns):\n",
            " #   Column              Non-Null Count  Dtype \n",
            "---  ------              --------------  ----- \n",
            " 0   Comment             18364 non-null  object\n",
            " 1   Sentiment           18364 non-null  object\n",
            " 2   Segmented_Comments  18364 non-null  object\n",
            " 3   Processed_Comment   18364 non-null  object\n",
            " 4   Content_Label       18364 non-null  int64 \n",
            "dtypes: int64(1), object(4)\n",
            "memory usage: 860.8+ KB\n"
          ]
        }
      ],
      "source": [
        "import re\n",
        "\n",
        "# Unione delle liste di parole chiave\n",
        "words_to_count = sexual_words + violence_words\n",
        "\n",
        "# Funzione per verificare se un commento contiene parole sensibili\n",
        "def classify_comment(comment):\n",
        "    if any(re.search(rf\"\\b{re.escape(word)}\\b\", str(comment), re.IGNORECASE) for word in words_to_count):\n",
        "        return 1  # Classifica come \"adult\"\n",
        "    else:\n",
        "        return 0  # Classifica come \"safe\"\n",
        "\n",
        "# 📌 Applicare la classificazione ai commenti\n",
        "df['Content_Label'] = df['Processed_Comment'].apply(classify_comment)\n",
        "\n",
        "# 📌 Controllare la distribuzione delle classi\n",
        "print(df['Content_Label'].value_counts())\n",
        "df.info()"
      ]
    },
    {
      "cell_type": "markdown",
      "metadata": {},
      "source": [
        "## Class balancing"
      ]
    },
    {
      "cell_type": "code",
      "execution_count": null,
      "metadata": {
        "colab": {
          "base_uri": "https://localhost:8080/"
        },
        "id": "g7rdoM4SEe0T",
        "outputId": "3643154e-63d5-4bb8-ff20-a35f952c0460"
      },
      "outputs": [
        {
          "name": "stdout",
          "output_type": "stream",
          "text": [
            "🔹 Distribuzione originale delle classi:\n",
            " Content_Label\n",
            "0    17816\n",
            "1      548\n",
            "Name: count, dtype: int64\n",
            "\n",
            "🔹 Distribuzione delle classi DOPO il downsampling:\n",
            " Content_Label\n",
            "0    822\n",
            "1    548\n",
            "Name: count, dtype: int64\n"
          ]
        }
      ],
      "source": [
        "from imblearn.under_sampling import RandomUnderSampler\n",
        "import pandas as pd\n",
        "\n",
        "# 📌 Controllare la distribuzione iniziale delle classi\n",
        "class_counts = df['Content_Label'].value_counts()\n",
        "print(\"🔹 Distribuzione originale delle classi:\\n\", class_counts)\n",
        "\n",
        "# 📌 Definire il rapporto 60%-40%\n",
        "total_adult = class_counts[1]  # Numero di campioni \"adult\"\n",
        "total_safe = class_counts[0]  # Numero di campioni \"safe\"\n",
        "\n",
        "# 📌 Calcolare quanti \"safe\" dobbiamo mantenere per avere 60%-40%\n",
        "target_safe = int(total_adult * (60 / 40))  # Safe deve essere 1.5 volte il numero di \"adult\"\n",
        "\n",
        "# 📌 Se il numero di \"safe\" è maggiore del target, facciamo downsampling\n",
        "if total_safe > target_safe:\n",
        "    undersampler = RandomUnderSampler(sampling_strategy={0: target_safe}, random_state=42)\n",
        "    x_balanced, y_balanced = undersampler.fit_resample(df, df['Content_Label'])\n",
        "\n",
        "    # 📌 Controllare la distribuzione DOPO il downsampling\n",
        "    print(\"\\n🔹 Distribuzione delle classi DOPO il downsampling:\\n\", pd.Series(y_balanced).value_counts())\n",
        "\n",
        "    # 📌 Creare un nuovo DataFrame con i dati bilanciati\n",
        "    df_balanced = pd.DataFrame(x_balanced)\n",
        "else:\n",
        "    df_balanced = df  # Se già bilanciato, usa il dataset originale"
      ]
    },
    {
      "cell_type": "markdown",
      "metadata": {},
      "source": [
        "# Model training"
      ]
    },
    {
      "cell_type": "code",
      "execution_count": null,
      "metadata": {
        "colab": {
          "base_uri": "https://localhost:8080/",
          "height": 1000
        },
        "id": "ksbz2XkjFa2i",
        "outputId": "51775e1a-b40f-4260-a3c9-086b02cdf219"
      },
      "outputs": [
        {
          "name": "stdout",
          "output_type": "stream",
          "text": [
            "🔹 Using device: cuda\n",
            "🔹 Distribuzione delle classi dopo il bilanciamento:\n",
            " Content_Label\n",
            "0    822\n",
            "1    548\n",
            "Name: count, dtype: int64\n"
          ]
        },
        {
          "name": "stderr",
          "output_type": "stream",
          "text": [
            "Some weights of BertForSequenceClassification were not initialized from the model checkpoint at bert-base-uncased and are newly initialized: ['classifier.bias', 'classifier.weight']\n",
            "You should probably TRAIN this model on a down-stream task to be able to use it for predictions and inference.\n",
            "/usr/local/lib/python3.11/dist-packages/transformers/optimization.py:591: FutureWarning: This implementation of AdamW is deprecated and will be removed in a future version. Use the PyTorch implementation torch.optim.AdamW instead, or set `no_deprecation_warning=True` to disable this warning\n",
            "  warnings.warn(\n",
            "Epoch 1: 100%|██████████| 69/69 [00:14<00:00,  4.76it/s, acc=0.601, loss=0.744]\n"
          ]
        },
        {
          "name": "stdout",
          "output_type": "stream",
          "text": [
            "\n",
            "🔹 Epoch 1: Training Loss: 0.6713, Training Accuracy: 0.6013\n",
            "🔹 Validation Loss: 0.6731, Validation Accuracy: 0.5401\n"
          ]
        },
        {
          "name": "stderr",
          "output_type": "stream",
          "text": [
            "Epoch 2: 100%|██████████| 69/69 [00:14<00:00,  4.65it/s, acc=0.615, loss=0.689]\n"
          ]
        },
        {
          "name": "stdout",
          "output_type": "stream",
          "text": [
            "\n",
            "🔹 Epoch 2: Training Loss: 0.6446, Training Accuracy: 0.6150\n",
            "🔹 Validation Loss: 0.6190, Validation Accuracy: 0.7117\n"
          ]
        },
        {
          "name": "stderr",
          "output_type": "stream",
          "text": [
            "Epoch 3: 100%|██████████| 69/69 [00:14<00:00,  4.69it/s, acc=0.692, loss=0.775]\n"
          ]
        },
        {
          "name": "stdout",
          "output_type": "stream",
          "text": [
            "\n",
            "🔹 Epoch 3: Training Loss: 0.6168, Training Accuracy: 0.6916\n",
            "🔹 Validation Loss: 0.5850, Validation Accuracy: 0.7299\n"
          ]
        },
        {
          "name": "stderr",
          "output_type": "stream",
          "text": [
            "Epoch 4: 100%|██████████| 69/69 [00:14<00:00,  4.78it/s, acc=0.732, loss=0.684]\n"
          ]
        },
        {
          "name": "stdout",
          "output_type": "stream",
          "text": [
            "\n",
            "🔹 Epoch 4: Training Loss: 0.5721, Training Accuracy: 0.7318\n",
            "🔹 Validation Loss: 0.5448, Validation Accuracy: 0.7518\n"
          ]
        },
        {
          "name": "stderr",
          "output_type": "stream",
          "text": [
            "Epoch 5: 100%|██████████| 69/69 [00:14<00:00,  4.81it/s, acc=0.714, loss=0.55]\n"
          ]
        },
        {
          "name": "stdout",
          "output_type": "stream",
          "text": [
            "\n",
            "🔹 Epoch 5: Training Loss: 0.5572, Training Accuracy: 0.7144\n",
            "🔹 Validation Loss: 0.4911, Validation Accuracy: 0.7774\n"
          ]
        },
        {
          "data": {
            "image/png": "[encoded data removed]",
            "text/plain": [
              "<Figure size 1200x500 with 2 Axes>"
            ]
          },
          "metadata": {},
          "output_type": "display_data"
        },
        {
          "name": "stdout",
          "output_type": "stream",
          "text": [
            "   Epoch  Training Loss  Training Accuracy  Validation Loss  \\\n",
            "0      1         0.6713             0.6013           0.6731   \n",
            "1      2         0.6446             0.6150           0.6190   \n",
            "2      3         0.6168             0.6916           0.5850   \n",
            "3      4         0.5721             0.7318           0.5448   \n",
            "4      5         0.5572             0.7144           0.4911   \n",
            "\n",
            "   Validation Accuracy  \n",
            "0               0.5401  \n",
            "1               0.7117  \n",
            "2               0.7299  \n",
            "3               0.7518  \n",
            "4               0.7774  \n"
          ]
        }
      ],
      "source": [
        "import torch\n",
        "import time\n",
        "import pandas as pd\n",
        "import numpy as np\n",
        "import matplotlib.pyplot as plt\n",
        "from tqdm import tqdm\n",
        "from transformers import BertTokenizer, BertForSequenceClassification, BertConfig, AdamW\n",
        "from torch.utils.data import Dataset, DataLoader\n",
        "from sklearn.model_selection import train_test_split\n",
        "from sklearn.utils.class_weight import compute_class_weight\n",
        "from torch.optim.lr_scheduler import CosineAnnealingLR\n",
        "from sklearn.metrics import classification_report\n",
        "\n",
        "# 📌 Controllare il dispositivo (GPU CUDA o MPS su Mac)\n",
        "device = torch.device(\"cuda\" if torch.cuda.is_available() else \"mps\" if torch.backends.mps.is_available() else \"cpu\")\n",
        "print(f\"🔹 Using device: {device}\")\n",
        "\n",
        "# 📌 Verificare la distribuzione delle classi dopo il bilanciamento\n",
        "print(\"🔹 Distribuzione delle classi dopo il bilanciamento:\\n\", df_balanced['Content_Label'].value_counts())\n",
        "\n",
        "# 📌 Suddividere il dataset in training e test (80%-20%)\n",
        "train_texts, test_texts, train_labels, test_labels = train_test_split(\n",
        "    df_balanced['Processed_Comment'].tolist(), df_balanced['Content_Label'].tolist(),\n",
        "    test_size=0.2, stratify=df_balanced['Content_Label'], random_state=42\n",
        ")\n",
        "\n",
        "# 📌 Caricare il Tokenizer di BERT\n",
        "tokenizer = BertTokenizer.from_pretrained('bert-base-uncased')\n",
        "\n",
        "# 📌 Tokenizzare i testi per BERT\n",
        "train_encodings = tokenizer(train_texts, truncation=True, padding='max_length', max_length=70, return_tensors='pt')\n",
        "test_encodings = tokenizer(test_texts, truncation=True, padding='max_length', max_length=70, return_tensors='pt')\n",
        "\n",
        "# 📌 **Creare Dataset PyTorch**\n",
        "class ContentDataset(Dataset):\n",
        "    def __init__(self, encodings, labels):\n",
        "        self.encodings = encodings\n",
        "        self.labels = labels\n",
        "\n",
        "    def __len__(self):\n",
        "        return len(self.labels)\n",
        "\n",
        "    def __getitem__(self, idx):\n",
        "        return {\n",
        "            \"input_ids\": self.encodings[\"input_ids\"][idx],\n",
        "            \"attention_mask\": self.encodings[\"attention_mask\"][idx],\n",
        "            \"labels\": torch.tensor(self.labels[idx], dtype=torch.long)\n",
        "        }\n",
        "\n",
        "train_dataset = ContentDataset(train_encodings, train_labels)\n",
        "test_dataset = ContentDataset(test_encodings, test_labels)\n",
        "\n",
        "# 📌 **Configurare il modello BERT**\n",
        "config = BertConfig.from_pretrained(\n",
        "    \"bert-base-uncased\",\n",
        "    num_labels=2,  # 🔹 Classificazione binaria\n",
        "    hidden_dropout_prob=0.3,\n",
        "    attention_probs_dropout_prob=0.3\n",
        ")\n",
        "\n",
        "# 📌 Caricare il modello pre-addestrato di BERT per classificazione\n",
        "model = BertForSequenceClassification.from_pretrained('bert-base-uncased', config=config)\n",
        "model.to(device)\n",
        "\n",
        "# 📌 Definire l'ottimizzatore AdamW con weight decay\n",
        "optimizer = AdamW(model.parameters(), lr=1e-5, weight_decay=0.01)\n",
        "lr_scheduler = CosineAnnealingLR(optimizer, T_max=10)\n",
        "\n",
        "# 📌 Aumentare il batch size per sfruttare la GPU\n",
        "BATCH_SIZE = 16\n",
        "train_loader = DataLoader(train_dataset, batch_size=BATCH_SIZE, shuffle=True)\n",
        "val_loader = DataLoader(test_dataset, batch_size=BATCH_SIZE)\n",
        "\n",
        "# 📌 **Correggere il calcolo dei pesi delle classi**\n",
        "class_counts = df_balanced['Content_Label'].value_counts().sort_index()\n",
        "total_samples = len(df_balanced)\n",
        "class_weights = {i: total_samples / class_counts[i] for i in class_counts.index}\n",
        "class_weights_tensor = torch.tensor(list(class_weights.values()), dtype=torch.float).to(device)\n",
        "\n",
        "# =========================\n",
        "# **Funzione di Training con Grafici**\n",
        "# =========================\n",
        "def train_model(model, train_loader, val_loader, epochs=5):\n",
        "\n",
        "    loss_fn = torch.nn.CrossEntropyLoss(weight=class_weights_tensor)\n",
        "\n",
        "    # 📌 Liste per tracciare le metriche\n",
        "    train_losses, val_losses = [], []\n",
        "    train_accuracies, val_accuracies = [], []\n",
        "\n",
        "    results = []\n",
        "    for epoch in range(epochs):\n",
        "        model.train()\n",
        "        loop = tqdm(train_loader, leave=True)\n",
        "        total_loss, correct, total = 0, 0, 0\n",
        "\n",
        "        for batch in loop:\n",
        "            inputs = {key: val.to(device) for key, val in batch.items() if key != \"labels\"}\n",
        "            labels = batch[\"labels\"].to(device)\n",
        "\n",
        "            outputs = model(**inputs)\n",
        "            loss = loss_fn(outputs.logits, labels)\n",
        "\n",
        "            optimizer.zero_grad()\n",
        "            loss.backward()\n",
        "            optimizer.step()\n",
        "            lr_scheduler.step()\n",
        "\n",
        "            # 📌 Calcolo accuracy\n",
        "            predictions = torch.argmax(outputs.logits, dim=-1)\n",
        "            correct += (predictions == labels).sum().item()\n",
        "            total += labels.size(0)\n",
        "\n",
        "            total_loss += loss.item()\n",
        "            loop.set_description(f'Epoch {epoch + 1}')\n",
        "            loop.set_postfix(loss=loss.item(), acc=correct / total)\n",
        "\n",
        "        # 📌 Calcolare media di loss e accuracy\n",
        "        train_accuracy = correct / total\n",
        "        avg_training_loss = total_loss / len(train_loader)\n",
        "\n",
        "        # 📌 Valutazione su validation set\n",
        "        val_loss, val_accuracy = evaluate_model(model, val_loader)\n",
        "\n",
        "        # 📌 Salvare metriche\n",
        "        train_losses.append(avg_training_loss)\n",
        "        val_losses.append(val_loss)\n",
        "        train_accuracies.append(train_accuracy)\n",
        "        val_accuracies.append(val_accuracy)\n",
        "\n",
        "        # 📌 Stampare risultati\n",
        "        print(f\"\\n🔹 Epoch {epoch + 1}: Training Loss: {avg_training_loss:.4f}, Training Accuracy: {train_accuracy:.4f}\")\n",
        "        print(f\"🔹 Validation Loss: {val_loss:.4f}, Validation Accuracy: {val_accuracy:.4f}\")\n",
        "\n",
        "        results.append({\n",
        "            \"Epoch\": epoch + 1,\n",
        "            \"Training Loss\": round(avg_training_loss, 4),\n",
        "            \"Training Accuracy\": round(train_accuracy, 4),\n",
        "            \"Validation Loss\": round(val_loss, 4),\n",
        "            \"Validation Accuracy\": round(val_accuracy, 4)\n",
        "        })\n",
        "\n",
        "    # 📌 Tracciare i grafici\n",
        "    plot_metrics(train_losses, val_losses, train_accuracies, val_accuracies)\n",
        "\n",
        "    results_df = pd.DataFrame(results)\n",
        "    print(results_df)\n",
        "    return results_df\n",
        "\n",
        "# =========================\n",
        "# **Funzione di Valutazione**\n",
        "# =========================\n",
        "def evaluate_model(model, val_loader):\n",
        "    model.eval()\n",
        "    total_loss, correct, total = 0, 0, 0\n",
        "    loss_fn = torch.nn.CrossEntropyLoss(weight=class_weights_tensor)\n",
        "\n",
        "    with torch.no_grad():\n",
        "        for batch in val_loader:\n",
        "            inputs = {key: val.to(device) for key, val in batch.items() if key != \"labels\"}\n",
        "            labels = batch[\"labels\"].to(device)\n",
        "\n",
        "            outputs = model(**inputs)\n",
        "            loss = loss_fn(outputs.logits, labels)\n",
        "            total_loss += loss.item()\n",
        "\n",
        "            predictions = torch.argmax(outputs.logits, dim=-1)\n",
        "            correct += (predictions == labels).sum().item()\n",
        "            total += labels.size(0)\n",
        "\n",
        "    return total_loss / len(val_loader), correct / total\n",
        "\n",
        "# =========================\n",
        "# **Funzione per tracciare i grafici**\n",
        "# =========================\n",
        "def plot_metrics(train_losses, val_losses, train_accuracies, val_accuracies):\n",
        "    plt.figure(figsize=(12, 5))\n",
        "\n",
        "    # 🔹 Grafico delle Loss\n",
        "    plt.subplot(1, 2, 1)\n",
        "    plt.plot(range(1, len(train_losses) + 1), train_losses, label='Training Loss')\n",
        "    plt.plot(range(1, len(val_losses) + 1), val_losses, label='Validation Loss')\n",
        "    plt.xlabel('Epochs')\n",
        "    plt.ylabel('Loss')\n",
        "    plt.title('Training & Validation Loss')\n",
        "    plt.legend()\n",
        "\n",
        "    # 🔹 Grafico delle Accuracy\n",
        "    plt.subplot(1, 2, 2)\n",
        "    plt.plot(range(1, len(train_accuracies) + 1), train_accuracies, label='Training Accuracy')\n",
        "    plt.plot(range(1, len(val_accuracies) + 1), val_accuracies, label='Validation Accuracy')\n",
        "    plt.xlabel('Epochs')\n",
        "    plt.ylabel('Accuracy')\n",
        "    plt.title('Training & Validation Accuracy')\n",
        "    plt.legend()\n",
        "\n",
        "    plt.show()\n",
        "\n",
        "# 📌 **Avviare l'addestramento**\n",
        "results_df = train_model(model, train_loader, val_loader, epochs=5)"
      ]
    },
    {
      "cell_type": "code",
      "execution_count": null,
      "metadata": {
        "colab": {
          "base_uri": "https://localhost:8080/",
          "height": 690
        },
        "id": "w_1Llzno2xGJ",
        "outputId": "1d448554-cc80-48de-dd28-3d68f8e806ca"
      },
      "outputs": [
        {
          "data": {
            "image/png": "[encoded data removed]",
            "text/plain": [
              "<Figure size 600x500 with 2 Axes>"
            ]
          },
          "metadata": {},
          "output_type": "display_data"
        },
        {
          "name": "stdout",
          "output_type": "stream",
          "text": [
            "\n",
            "🔹 Classification Report:\n",
            "              precision    recall  f1-score   support\n",
            "\n",
            "        safe       0.82      0.81      0.81       164\n",
            "       adult       0.72      0.73      0.72       110\n",
            "\n",
            "    accuracy                           0.78       274\n",
            "   macro avg       0.77      0.77      0.77       274\n",
            "weighted avg       0.78      0.78      0.78       274\n",
            "\n"
          ]
        }
      ],
      "source": [
        "import torch\n",
        "import numpy as np\n",
        "import matplotlib.pyplot as plt\n",
        "import seaborn as sns\n",
        "from sklearn.metrics import confusion_matrix, classification_report\n",
        "\n",
        "# 📌 Funzione per stampare la Matrice di Confusione\n",
        "def plot_confusion_matrix(model, val_loader, class_names=['safe', 'adult']):\n",
        "    model.eval()\n",
        "    all_preds, all_labels = [], []\n",
        "\n",
        "    with torch.no_grad():\n",
        "        for batch in val_loader:\n",
        "            inputs = {key: val.to(device) for key, val in batch.items() if key != \"labels\"}\n",
        "            labels = batch[\"labels\"].cpu().numpy()\n",
        "\n",
        "            outputs = model(**inputs)\n",
        "            preds = torch.argmax(outputs.logits, dim=-1).cpu().numpy()\n",
        "\n",
        "            all_preds.extend(preds)\n",
        "            all_labels.extend(labels)\n",
        "\n",
        "    # 📌 Generare la matrice di confusione\n",
        "    cm = confusion_matrix(all_labels, all_preds)\n",
        "\n",
        "    # 📌 Stampare la matrice di confusione\n",
        "    plt.figure(figsize=(6, 5))\n",
        "    sns.heatmap(cm, annot=True, fmt=\"d\", cmap=\"Blues\", xticklabels=class_names, yticklabels=class_names)\n",
        "    plt.xlabel(\"Predicted Label\")\n",
        "    plt.ylabel(\"True Label\")\n",
        "    plt.title(\"Confusion Matrix\")\n",
        "    plt.show()\n",
        "\n",
        "    # 📌 Stampare il report di classificazione\n",
        "    print(\"\\n🔹 Classification Report:\")\n",
        "    print(classification_report(all_labels, all_preds, target_names=class_names))\n",
        "\n",
        "# 📌 Chiamare la funzione dopo il training\n",
        "plot_confusion_matrix(model, val_loader)"
      ]
    }
  ],
  "metadata": {
    "accelerator": "GPU",
    "colab": {
      "gpuType": "T4",
      "provenance": []
    },
    "kernelspec": {
      "display_name": "Python 3",
      "name": "python3"
    },
    "language_info": {
      "codemirror_mode": {
        "name": "ipython",
        "version": 3
      },
      "file_extension": ".py",
      "mimetype": "text/x-python",
      "name": "python",
      "nbconvert_exporter": "python",
      "pygments_lexer": "ipython3",
      "version": "3.11.11"
    }
  },
  "nbformat": 4,
  "nbformat_minor": 0
}
